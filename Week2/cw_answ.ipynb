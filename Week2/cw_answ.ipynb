{
 "cells": [
  {
   "cell_type": "code",
   "execution_count": 89,
   "metadata": {},
   "outputs": [],
   "source": [
    "# import all required libraries\n",
    "import datetime\n",
    "import math\n",
    "import matplotlib.pyplot as plt\n",
    "import numpy as np\n",
    "import pandas as pd\n",
    "import os\n",
    "\n",
    "743+ 710+ 682+ 780+915+ 881+ 806+ 815+ 491+ 511+ 508+ 476+ 652+ 654+ 684+ 551+ 416+ 424+ 459+ 367+"
   ]
  },
  {
   "cell_type": "code",
   "execution_count": 90,
   "metadata": {},
   "outputs": [
    {
     "name": "stdout",
     "output_type": "stream",
     "text": [
      "  Lane Name   Range      Q1      Q2      Q3    IQR\n",
      "0    NB_MID  98.174  23.613  28.584  32.310  8.697\n",
      "1     NB_NS  57.787  24.233  28.584  31.691  7.458\n",
      "2     NB_OS  60.272  24.855  30.447  34.176  9.321\n"
     ]
    },
    {
     "name": "stderr",
     "output_type": "stream",
     "text": [
      "/var/folders/05/1nhppqvs1pl5qlx_ggw_w3200000gn/T/ipykernel_4888/1431322603.py:27: FutureWarning: The frame.append method is deprecated and will be removed from pandas in a future version. Use pandas.concat instead.\n",
      "  dds = dds.append({\"Lane Name\": lane_name, \"Range\": range,\n",
      "/var/folders/05/1nhppqvs1pl5qlx_ggw_w3200000gn/T/ipykernel_4888/1431322603.py:27: FutureWarning: The frame.append method is deprecated and will be removed from pandas in a future version. Use pandas.concat instead.\n",
      "  dds = dds.append({\"Lane Name\": lane_name, \"Range\": range,\n",
      "/var/folders/05/1nhppqvs1pl5qlx_ggw_w3200000gn/T/ipykernel_4888/1431322603.py:27: FutureWarning: The frame.append method is deprecated and will be removed from pandas in a future version. Use pandas.concat instead.\n",
      "  dds = dds.append({\"Lane Name\": lane_name, \"Range\": range,\n"
     ]
    }
   ],
   "source": [
    "\"\"\"\n",
    "To  gain  insight  into  the  typical  vehicle  speed  patterns  observed  at  site  1083, \n",
    "provide a basic profile of vehicle speeds on the North lanes. This profile should be \n",
    "based on the following descriptive data  summarisation  measures:  Range  (R),  1st \n",
    "Quartile (Q1), 2nd Quartile (Q2), 3rd Quartile (Q3), and Interquartile Range (IQR), \n",
    "as follows:\n",
    "\"\"\"\n",
    "# create a filtering function for the given df and chosen direction for tasks 2.1, 2.2, 2.3\n",
    "def get_mask_t2(df, direction):\n",
    "    mask = (\n",
    "        (df[\"Date\"].dt.weekday == 1)  # Tuesday is represented by 1\n",
    "        & (df[\"Date\"].dt.time >= pd.to_datetime(\"09:00:00\").time())\n",
    "        & (df[\"Date\"].dt.time <= pd.to_datetime(\"09:59:59\").time())\n",
    "        & (df[\"Direction Name\"] == direction)\n",
    "    )\n",
    "    return mask\n",
    "\n",
    "# take and append required dds as a dict for the required attribute for the given df for tasks 2.1, 2.2, 2.3\n",
    "def get_dds_by_attribute_t2(df, dds, att):\n",
    "    for lane_name, speeds in zip(df[\"Lane Name\"], df[att]):\n",
    "        # filtering out NaNs and other invalid values, it's fine to omit as there are only 2 NaNs\n",
    "        speeds = [speed for speed in speeds if isinstance(speed, float) and not math.isnan(speed)]\n",
    "        range = np.max(speeds) - np.min(speeds)\n",
    "        q1 = np.percentile(speeds, 25)\n",
    "        q2 = np.percentile(speeds, 50)\n",
    "        q3 = np.percentile(speeds, 75)\n",
    "        iqr = q3 - q1\n",
    "        dds = dds.append({\"Lane Name\": lane_name, \"Range\": range, \n",
    "                                    \"Q1\": q1, \"Q2\": q2, \"Q3\": q3, \"IQR\": iqr}, ignore_index=True)\n",
    "    return dds\n",
    "\n",
    "# load data into memory as a Pandas dataframe\n",
    "df_1083 = pd.read_csv(\"./Datasets/rawpvr_2018-02-01_28d_1083 TueFri.csv\")\n",
    "\n",
    "# remove ms for coherent datetime object\n",
    "df_1083[\"Date\"] = df_1083[\"Date\"].apply(lambda x: x[:-7] if len(x) == 26 else x)\n",
    "df_1083[\"Date\"] = df_1083[\"Date\"].apply(lambda x: datetime.datetime.strptime(x, \"%Y-%m-%d %H:%M:%S\"))\n",
    "\n",
    "# other method is to convert to pd_datetime, but it is much more time consuming (7x), so we dont do that\n",
    "# df_1083[\"Date\"] = df_1083[\"Date\"].apply(pd.to_datetime)\n",
    "\n",
    "# creating a filtering mask for the north lanes and aggregating by given attribute\n",
    "mask_north = get_mask_t2(df_1083, \"North\")\n",
    "nl_filtered = df_1083[mask_north]\n",
    "nl_grp_by_speed = nl_filtered.groupby(\"Lane Name\")[\"Speed (mph)\"].agg(list).reset_index()\n",
    "\n",
    "# creating an empty dds dataframe to be filled\n",
    "dds_north = pd.DataFrame(columns=[\"Lane Name\", \"Range\", \"Q1\", \"Q2\", \"Q3\", \"IQR\"])\n",
    "dds_north = get_dds_by_attribute(nl_grp_by_speed, dds_north, \"Speed (mph)\")\n",
    "\n",
    "print(dds_north)"
   ]
  },
  {
   "cell_type": "code",
   "execution_count": 91,
   "metadata": {},
   "outputs": [
    {
     "name": "stdout",
     "output_type": "stream",
     "text": [
      "  Lane Name   Range      Q1      Q2      Q3    IQR\n",
      "0    SB_MID  62.757  31.691  34.798  37.903  6.212\n",
      "1     SB_NS  53.438  30.447  33.554  36.661  6.214\n",
      "2     SB_OS  76.430  32.932  36.661  39.768  6.836\n"
     ]
    },
    {
     "name": "stderr",
     "output_type": "stream",
     "text": [
      "/var/folders/05/1nhppqvs1pl5qlx_ggw_w3200000gn/T/ipykernel_4888/1431322603.py:27: FutureWarning: The frame.append method is deprecated and will be removed from pandas in a future version. Use pandas.concat instead.\n",
      "  dds = dds.append({\"Lane Name\": lane_name, \"Range\": range,\n",
      "/var/folders/05/1nhppqvs1pl5qlx_ggw_w3200000gn/T/ipykernel_4888/1431322603.py:27: FutureWarning: The frame.append method is deprecated and will be removed from pandas in a future version. Use pandas.concat instead.\n",
      "  dds = dds.append({\"Lane Name\": lane_name, \"Range\": range,\n",
      "/var/folders/05/1nhppqvs1pl5qlx_ggw_w3200000gn/T/ipykernel_4888/1431322603.py:27: FutureWarning: The frame.append method is deprecated and will be removed from pandas in a future version. Use pandas.concat instead.\n",
      "  dds = dds.append({\"Lane Name\": lane_name, \"Range\": range,\n"
     ]
    }
   ],
   "source": [
    "\"\"\"\n",
    "Second,  do  the  same  for  each  individual  South  lane,  focussing  on  the \n",
    "same weekday and time of day.\n",
    "\"\"\"\n",
    "\n",
    "# creating a filtering mask for the north lanes and aggregating by given attribute\n",
    "mask_south = get_mask_t2(df_1083, \"South\")\n",
    "sl_filtered = df_1083[mask_south]\n",
    "sl_grp_by_speed = sl_filtered.groupby(\"Lane Name\")[\"Speed (mph)\"].agg(list).reset_index()\n",
    "\n",
    "# creating an empty dds dataframe to be filled\n",
    "dds_south = pd.DataFrame(columns=[\"Lane Name\", \"Range\", \"Q1\", \"Q2\", \"Q3\", \"IQR\"])\n",
    "dds_south = get_dds_by_attribute(sl_grp_by_speed, dds_south, \"Speed (mph)\")\n",
    "\n",
    "print(dds_south)"
   ]
  },
  {
   "cell_type": "code",
   "execution_count": 102,
   "metadata": {},
   "outputs": [
    {
     "name": "stdout",
     "output_type": "stream",
     "text": [
      "Lane Name   NB_MID  NB_NS  NB_OS\n",
      "Date                            \n",
      "2018-02-06     879    743    915\n",
      "2018-02-13     856    710    881\n",
      "2018-02-20     823    682    806\n",
      "2018-02-27     831    780    815\n",
      "================================\n",
      "Lane Name   SB_MID  SB_NS  SB_OS\n",
      "Date                            \n",
      "2018-02-06     491    652    416\n",
      "2018-02-13     511    654    424\n",
      "2018-02-20     508    684    459\n",
      "2018-02-27     476    551    367\n",
      "True\n",
      "True\n"
     ]
    },
    {
     "name": "stderr",
     "output_type": "stream",
     "text": [
      "/var/folders/05/1nhppqvs1pl5qlx_ggw_w3200000gn/T/ipykernel_4888/2637587425.py:19: SettingWithCopyWarning: \n",
      "A value is trying to be set on a copy of a slice from a DataFrame.\n",
      "Try using .loc[row_indexer,col_indexer] = value instead\n",
      "\n",
      "See the caveats in the documentation: https://pandas.pydata.org/pandas-docs/stable/user_guide/indexing.html#returning-a-view-versus-a-copy\n",
      "  nl_grp_by_date[\"Date\"] = nl_grp_by_date[\"Date\"].dt.normalize()\n",
      "/var/folders/05/1nhppqvs1pl5qlx_ggw_w3200000gn/T/ipykernel_4888/2637587425.py:26: SettingWithCopyWarning: \n",
      "A value is trying to be set on a copy of a slice from a DataFrame.\n",
      "Try using .loc[row_indexer,col_indexer] = value instead\n",
      "\n",
      "See the caveats in the documentation: https://pandas.pydata.org/pandas-docs/stable/user_guide/indexing.html#returning-a-view-versus-a-copy\n",
      "  sl_grp_by_date[\"Date\"] = sl_grp_by_date[\"Date\"].dt.normalize()\n"
     ]
    }
   ],
   "source": [
    "\"\"\"\n",
    "To  enrich  your  profile  of  the  road  traffic  around  site  1083,  calculate  the \n",
    "same  measures  considering  the  traffic  volume  for  each  individual  North \n",
    "lane,  and for  each  individual  South  lane,  considering  the  same  day  of  the \n",
    "week and time of the day.\n",
    "\n",
    "from my understanding the data will look like this:\n",
    "            South1        South2      South3\n",
    "tuesday1    count(veh)\n",
    "tuesday2\n",
    "tuesday3\n",
    "tuesday4\n",
    "\n",
    "and the same for north, where time is between 9:00:00 to 9:59:59 am\n",
    "\"\"\"\n",
    "\n",
    "# we can reuse the previously filtered lanes, starting with the north lanes\n",
    "nl_grp_by_date = nl_filtered\n",
    "nl_grp_by_date[\"Date\"] = nl_grp_by_date[\"Date\"].dt.normalize()\n",
    "nl_grp_by_date = nl_grp_by_date.groupby([\"Date\", \"Lane Name\"]).size().reset_index(name=\"row_count\")\n",
    "# pivot the table so it looks more-readable\n",
    "nl_grp_by_date = nl_grp_by_date.pivot_table(index=\"Date\", columns=\"Lane Name\", values=\"row_count\", fill_value=0)\n",
    "\n",
    "# now repeat the process for the south lanes\n",
    "sl_grp_by_date = sl_filtered\n",
    "sl_grp_by_date[\"Date\"] = sl_grp_by_date[\"Date\"].dt.normalize()\n",
    "sl_grp_by_date = sl_grp_by_date.groupby([\"Date\", \"Lane Name\"]).size().reset_index(name=\"row_count\")\n",
    "sl_grp_by_date = sl_grp_by_date.pivot_table(index=\"Date\", columns=\"Lane Name\", values=\"row_count\", fill_value=0)\n",
    "\n",
    "print(nl_grp_by_date)\n",
    "print(\"=\"*32)\n",
    "print(sl_grp_by_date)\n",
    "\n",
    "# sanity check\n",
    "print(nl_filtered.shape[0] == nl_grp_by_date.sum(axis=1).sum())\n",
    "print(sl_filtered.shape[0] == sl_grp_by_date.sum(axis=1).sum())\n"
   ]
  },
  {
   "cell_type": "code",
   "execution_count": null,
   "metadata": {},
   "outputs": [],
   "source": []
  }
 ],
 "metadata": {
  "kernelspec": {
   "display_name": "Python 3",
   "language": "python",
   "name": "python3"
  },
  "language_info": {
   "codemirror_mode": {
    "name": "ipython",
    "version": 3
   },
   "file_extension": ".py",
   "mimetype": "text/x-python",
   "name": "python",
   "nbconvert_exporter": "python",
   "pygments_lexer": "ipython3",
   "version": "3.11.4"
  },
  "orig_nbformat": 4
 },
 "nbformat": 4,
 "nbformat_minor": 2
}
